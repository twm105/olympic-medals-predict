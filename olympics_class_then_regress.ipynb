{
 "cells": [
  {
   "cell_type": "markdown",
   "id": "ecd1e3db-9c70-43d4-a605-09e8d49fb9f8",
   "metadata": {},
   "source": [
    "# Predicting Olympic Medals (Classification-->Regression)\n",
    "The pure regression model seemed to be predicting zero medals well, but doing OK for "
   ]
  },
  {
   "cell_type": "code",
   "execution_count": 9,
   "id": "fe2f5a24-cf9a-4c03-ab00-763d16489e5a",
   "metadata": {},
   "outputs": [],
   "source": [
    "import numpy as np\n",
    "import math"
   ]
  }
 ],
 "metadata": {
  "kernelspec": {
   "display_name": "Python 3 (ipykernel)",
   "language": "python",
   "name": "python3"
  },
  "language_info": {
   "codemirror_mode": {
    "name": "ipython",
    "version": 3
   },
   "file_extension": ".py",
   "mimetype": "text/x-python",
   "name": "python",
   "nbconvert_exporter": "python",
   "pygments_lexer": "ipython3",
   "version": "3.9.7"
  }
 },
 "nbformat": 4,
 "nbformat_minor": 5
}
